{
 "cells": [
  {
   "cell_type": "code",
   "execution_count": 19,
   "metadata": {},
   "outputs": [
    {
     "name": "stdout",
     "output_type": "stream",
     "text": [
      "0.8387162506367805\n",
      "0.8187162506367806\n"
     ]
    }
   ],
   "source": [
    "from pathlib import Path\n",
    "import pandas\n",
    "path_data = Path(\"/mnt/storage/Data/NLP/datasets/importance_sampling/\")\n",
    "model_name = \"albert-base-v2\"\n",
    "subsample_type = \"subsample_rand\"\n",
    "data = {}\n",
    "for dir_seed in (path_data / \"results\" / model_name / subsample_type).iterdir():\n",
    "    seed = int(str(dir_seed).split(\"_\")[-1])\n",
    "    data[seed] = {}\n",
    "    for cnt_samples in dir_seed.iterdir():\n",
    "        with open(cnt_samples/\"eval_results_mnli.txt\") as f:\n",
    "            for line in f:\n",
    "                if line.startswith(\"eval_acc\"):\n",
    "                    acc = float(line.split(\"=\")[-1].strip())\n",
    "                    print(acc)\n",
    "                    data[seed][int(cnt_samples.name)] = acc"
   ]
  },
  {
   "cell_type": "code",
   "execution_count": 20,
   "metadata": {},
   "outputs": [
    {
     "data": {
      "text/html": [
       "<div>\n",
       "<style scoped>\n",
       "    .dataframe tbody tr th:only-of-type {\n",
       "        vertical-align: middle;\n",
       "    }\n",
       "\n",
       "    .dataframe tbody tr th {\n",
       "        vertical-align: top;\n",
       "    }\n",
       "\n",
       "    .dataframe thead th {\n",
       "        text-align: right;\n",
       "    }\n",
       "</style>\n",
       "<table border=\"1\" class=\"dataframe\">\n",
       "  <thead>\n",
       "    <tr style=\"text-align: right;\">\n",
       "      <th></th>\n",
       "      <th>256</th>\n",
       "      <th>128</th>\n",
       "    </tr>\n",
       "  </thead>\n",
       "  <tbody>\n",
       "    <tr>\n",
       "      <th>42</th>\n",
       "      <td>0.838716</td>\n",
       "      <td>0.818716</td>\n",
       "    </tr>\n",
       "  </tbody>\n",
       "</table>\n",
       "</div>"
      ],
      "text/plain": [
       "         256       128\n",
       "42  0.838716  0.818716"
      ]
     },
     "execution_count": 20,
     "metadata": {},
     "output_type": "execute_result"
    }
   ],
   "source": [
    "df = pandas.DataFrame.from_dict(data, orient='index')\n",
    "                       #columns=['FP32', 'apex'])\n",
    "df"
   ]
  },
  {
   "cell_type": "code",
   "execution_count": 21,
   "metadata": {},
   "outputs": [
    {
     "data": {
      "image/png": "[encoded data removed]",
      "text/plain": [
       "<Figure size 432x288 with 1 Axes>"
      ]
     },
     "metadata": {
      "needs_background": "light"
     },
     "output_type": "display_data"
    }
   ],
   "source": [
    "ax = df.T.plot(color=[\"orange\",\"crimson\"])\n"
   ]
  },
  {
   "cell_type": "code",
   "execution_count": null,
   "metadata": {},
   "outputs": [],
   "source": []
  }
 ],
 "metadata": {
  "kernelspec": {
   "display_name": "Python 3",
   "language": "python",
   "name": "python3"
  },
  "language_info": {
   "codemirror_mode": {
    "name": "ipython",
    "version": 3
   },
   "file_extension": ".py",
   "mimetype": "text/x-python",
   "name": "python",
   "nbconvert_exporter": "python",
   "pygments_lexer": "ipython3",
   "version": "3.8.2"
  }
 },
 "nbformat": 4,
 "nbformat_minor": 4
}
