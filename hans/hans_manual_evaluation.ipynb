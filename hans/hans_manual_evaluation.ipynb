{
 "cells": [
  {
   "cell_type": "code",
   "execution_count": 83,
   "metadata": {},
   "outputs": [],
   "source": [
    "import logging\n",
    "import os\n",
    "from dataclasses import dataclass, field\n",
    "from typing import Dict, List, Optional\n",
    "\n",
    "import numpy as np\n",
    "import torch\n",
    "\n",
    "import transformers\n",
    "from transformers import (\n",
    "    AutoConfig,\n",
    "    AutoModelForSequenceClassification,\n",
    "    AutoTokenizer,\n",
    "    HfArgumentParser,\n",
    "    Trainer,\n",
    "    TrainingArguments,\n",
    "    default_data_collator,\n",
    "    set_seed,\n",
    ")\n",
    "from tqdm import tqdm\n",
    "from transformers.trainer_utils import is_main_process\n",
    "from utils_hans import HansDataset, InputFeatures, hans_processors, hans_tasks_num_labels\n",
    "\n",
    "\n",
    "logger = logging.getLogger(__name__)"
   ]
  },
  {
   "cell_type": "code",
   "execution_count": 85,
   "metadata": {},
   "outputs": [],
   "source": [
    "tokenizer = AutoTokenizer.from_pretrained(\"bert-large-uncased\")"
   ]
  },
  {
   "cell_type": "code",
   "execution_count": 86,
   "metadata": {},
   "outputs": [
    {
     "name": "stderr",
     "output_type": "stream",
     "text": [
      "Reusing dataset hans (/home/nlp/.cache/huggingface/datasets/hans/plain_text/1.0.0/ccd7261ed79f0e126a724d1c0b6d94d8e029b9ec309c8e6c5dbece3538ab7f3b)\n"
     ]
    }
   ],
   "source": [
    "dataset = HansDataset(\n",
    "            data_dir='/home/nlp/data/glue_data/hans',\n",
    "            tokenizer=tokenizer,\n",
    "            task='hans',\n",
    "            max_seq_length=96,\n",
    "            evaluate=True\n",
    "        )\n",
    "from datasets import load_dataset\n",
    "ds = load_dataset(\"hans\", split=\"validation\")\n",
    "gt = []\n",
    "for val in ds:\n",
    "    gt.append(val['label'])\n",
    "def put_to_cuda(example):\n",
    "    val = {}\n",
    "    val['input_ids'] = example.input_ids.unsqueeze(0).cuda()\n",
    "    val['attention_mask'] = example.attention_mask.cuda()\n",
    "    val['token_type_ids'] = example.token_type_ids.cuda()\n",
    "    return val"
   ]
  },
  {
   "cell_type": "code",
   "execution_count": 105,
   "metadata": {},
   "outputs": [],
   "source": [
    "model = AutoModelForSequenceClassification.from_pretrained(\"/home/nlp/experiments/again_bert_medium_59\")\n",
    "model.cuda();"
   ]
  },
  {
   "cell_type": "code",
   "execution_count": 106,
   "metadata": {},
   "outputs": [
    {
     "name": "stderr",
     "output_type": "stream",
     "text": [
      "100%|██████████| 30000/30000 [03:40<00:00, 136.19it/s]\n"
     ]
    }
   ],
   "source": [
    "model_outputs = []\n",
    "for example in tqdm(dataset):\n",
    "    cuda_input = put_to_cuda(example)\n",
    "    output = model(**cuda_input)\n",
    "    model_label = torch.argmax(output.logits.squeeze(0)).item()\n",
    "    model_outputs.append(model_label)"
   ]
  },
  {
   "cell_type": "code",
   "execution_count": 107,
   "metadata": {},
   "outputs": [
    {
     "data": {
      "text/plain": [
       "0.5122333333333333"
      ]
     },
     "execution_count": 107,
     "metadata": {},
     "output_type": "execute_result"
    }
   ],
   "source": [
    "for idx, mo in enumerate(model_outputs):\n",
    "    if mo == 2:\n",
    "        model_outputs[idx] = 1\n",
    "sum(np.array(model_outputs) == np.array(gt))/30000"
   ]
  },
  {
   "cell_type": "code",
   "execution_count": 108,
   "metadata": {},
   "outputs": [
    {
     "data": {
      "text/plain": [
       "(51.02, 0.26166135875720636)"
      ]
     },
     "execution_count": 108,
     "metadata": {},
     "output_type": "execute_result"
    }
   ],
   "source": [
    "val_1 = 50.65\n",
    "val_2 = 51.21\n",
    "val_3 = 51.2\n",
    "\n",
    "np.average([val_1, val_2, val_3]), np.std([val_1, val_2, val_3])"
   ]
  },
  {
   "cell_type": "code",
   "execution_count": null,
   "metadata": {},
   "outputs": [],
   "source": []
  }
 ],
 "metadata": {
  "kernelspec": {
   "display_name": "Python 3",
   "language": "python",
   "name": "python3"
  },
  "language_info": {
   "codemirror_mode": {
    "name": "ipython",
    "version": 3
   },
   "file_extension": ".py",
   "mimetype": "text/x-python",
   "name": "python",
   "nbconvert_exporter": "python",
   "pygments_lexer": "ipython3",
   "version": "3.8.10"
  }
 },
 "nbformat": 4,
 "nbformat_minor": 4
}
