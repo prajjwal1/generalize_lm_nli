{
 "cells": [
  {
   "cell_type": "code",
   "execution_count": 1,
   "metadata": {},
   "outputs": [],
   "source": [
    "import os\n",
    "from tqdm import tqdm, trange\n",
    "import matplotlib.pyplot as plt\n",
    "import json\n",
    "\n",
    "import numpy as np\n",
    "import torch\n",
    "import torch.nn.functional as F\n",
    "from torch import nn\n",
    "\n",
    "\n",
    "from transformers import AutoConfig, AutoModel, AutoModelForSequenceClassification, AutoTokenizer\n",
    "from transformers import GlueDataTrainingArguments as DataTrainingArguments, TrainingArguments\n",
    "from transformers import GlueDataset, default_data_collator, Trainer, glue_compute_metrics\n",
    "\n",
    "from train_test_overlap_utils import CBOW, build_compute_metrics_fn\n",
    "\n",
    "os.environ[\"WANDB_DISABLED\"] = \"true\"\n",
    "os.environ[\"CUDA_VISIBLE_DEVICES\"] = \"1\""
   ]
  },
  {
   "cell_type": "code",
   "execution_count": 2,
   "metadata": {},
   "outputs": [],
   "source": [
    "tokenizer = AutoTokenizer.from_pretrained('bert-base-uncased')"
   ]
  },
  {
   "cell_type": "code",
   "execution_count": 3,
   "metadata": {},
   "outputs": [
    {
     "name": "stderr",
     "output_type": "stream",
     "text": [
      "/home/nlp/.local/lib/python3.8/site-packages/transformers/data/datasets/glue.py:87: FutureWarning: This dataset will be removed from the library soon, preprocessing should be handled with the 🤗 Datasets library. You can have a look at this example script for pointers: https://github.com/huggingface/transformers/blob/master/examples/text-classification/run_glue.py\n",
      "  warnings.warn(\n",
      "/home/nlp/.local/lib/python3.8/site-packages/transformers/data/processors/glue.py:222: FutureWarning: This processor will be removed from the library soon, preprocessing should be handled with the 🤗 Datasets library. You can have a look at this example script for pointers: https://github.com/huggingface/transformers/blob/master/examples/text-classification/run_glue.py\n",
      "  warnings.warn(DEPRECATION_WARNING.format(\"processor\"), FutureWarning)\n"
     ]
    }
   ],
   "source": [
    "mnli_hard_data_args = DataTrainingArguments(task_name = 'mnli',\n",
    "                                       max_seq_length= 96,\n",
    "                                       data_dir = '/home/nlp/cartography/filtered/' + 'bert_base' + '_hard_mnli/cartography_confidence_0.05/MNLI')\n",
    "\n",
    "mnli_easy_data_args = DataTrainingArguments(task_name = 'mnli',\n",
    "                                       max_seq_length= 96,\n",
    "                                       data_dir = '/home/nlp/cartography/filtered/' + 'bert_base' + '_easy_mnli/cartography_confidence_0.05/MNLI')\n",
    "\n",
    "mnli_ambiguous_data_args = DataTrainingArguments(task_name = 'mnli',\n",
    "                                       max_seq_length= 96,\n",
    "                                       data_dir = '/home/nlp/cartography/filtered/' + 'bert_base' + '_ambiguous_mnli/cartography_variability_0.05/MNLI')\n",
    "\n",
    "\n",
    "mnli_data_args = DataTrainingArguments(task_name = 'mnli',\n",
    "                                       max_seq_length= 96,\n",
    "                                       data_dir = '/home/nlp/data/glue_data/MNLI')\n",
    "\n",
    "mnli_train_dataset = GlueDataset(mnli_data_args, tokenizer, mode=\"train\")\n",
    "mnli_valid_dataset = GlueDataset(mnli_data_args, tokenizer, mode=\"dev\")\n",
    "\n",
    "mnli_easy_dataset = GlueDataset(mnli_easy_data_args, tokenizer, mode=\"train\")\n",
    "mnli_ambiguous_dataset = GlueDataset(mnli_ambiguous_data_args, tokenizer, mode=\"train\")\n",
    "mnli_hard_dataset = GlueDataset(mnli_hard_data_args, tokenizer, mode=\"train\")"
   ]
  },
  {
   "cell_type": "code",
   "execution_count": 4,
   "metadata": {},
   "outputs": [
    {
     "name": "stderr",
     "output_type": "stream",
     "text": [
      "/home/nlp/.local/lib/python3.8/site-packages/transformers/data/processors/glue.py:268: FutureWarning: This processor will be removed from the library soon, preprocessing should be handled with the 🤗 Datasets library. You can have a look at this example script for pointers: https://github.com/huggingface/transformers/blob/master/examples/text-classification/run_glue.py\n",
      "  warnings.warn(DEPRECATION_WARNING.format(\"processor\"), FutureWarning)\n"
     ]
    }
   ],
   "source": [
    "mnli_mm_data_args = DataTrainingArguments(task_name = 'mnli-mm',\n",
    "                                       max_seq_length= 96,\n",
    "                                       data_dir = '/home/nlp/data/glue_data/MNLI')\n",
    "mnli_mm_valid_dataset = GlueDataset(mnli_mm_data_args, tokenizer, mode=\"dev\")"
   ]
  },
  {
   "cell_type": "code",
   "execution_count": 8,
   "metadata": {},
   "outputs": [],
   "source": [
    "training_args = TrainingArguments(output_dir='/home/nlp/experiments/train_test_overlap', \n",
    "                                  seed=42, \n",
    "                                  per_device_train_batch_size = 64, #4096,\n",
    "                                  per_device_eval_batch_size=64, #4096,\n",
    "                                  logging_steps=25,\n",
    "                                  num_train_epochs=4)"
   ]
  },
  {
   "cell_type": "code",
   "execution_count": 7,
   "metadata": {},
   "outputs": [],
   "source": [
    "config = AutoConfig.from_pretrained('bert-base-uncased')\n",
    "model = CBOW(config)"
   ]
  },
  {
   "cell_type": "code",
   "execution_count": 5,
   "metadata": {},
   "outputs": [],
   "source": [
    "model = AutoModelForSequenceClassification.from_pretrained('../../experiments/big_small/bert_base/epoch_4')"
   ]
  },
  {
   "cell_type": "code",
   "execution_count": 52,
   "metadata": {},
   "outputs": [],
   "source": [
    "# torch.cuda.set_device(1)"
   ]
  },
  {
   "cell_type": "code",
   "execution_count": 9,
   "metadata": {},
   "outputs": [],
   "source": [
    "trainer = Trainer(model=model,\n",
    "                 args=training_args,\n",
    "                 train_dataset=mnli_train_dataset,\n",
    "                 eval_dataset=mnli_mm_valid_dataset,\n",
    "                 tokenizer=tokenizer,\n",
    "                 data_collator=default_data_collator,\n",
    "                 compute_metrics=build_compute_metrics_fn('mnli'))"
   ]
  },
  {
   "cell_type": "code",
   "execution_count": 9,
   "metadata": {},
   "outputs": [
    {
     "name": "stderr",
     "output_type": "stream",
     "text": [
      "/home/nlp/.local/lib/python3.8/site-packages/torch/nn/parallel/_functions.py:64: UserWarning: Was asked to gather along dimension 0, but all input tensors were scalars; will instead unsqueeze and return a vector.\n",
      "  warnings.warn('Was asked to gather along dimension 0, but all '\n"
     ]
    },
    {
     "data": {
      "text/html": [
       "\n",
       "    <div>\n",
       "        <style>\n",
       "            /* Turns off some styling */\n",
       "            progress {\n",
       "                /* gets rid of default border in Firefox and Opera. */\n",
       "                border: none;\n",
       "                /* Needs to be in here for Safari polyfill so background images work as expected. */\n",
       "                background-size: auto;\n",
       "            }\n",
       "        </style>\n",
       "      \n",
       "      <progress value='192' max='192' style='width:300px; height:20px; vertical-align: middle;'></progress>\n",
       "      [192/192 02:22, Epoch 4/4]\n",
       "    </div>\n",
       "    <table border=\"1\" class=\"dataframe\">\n",
       "  <thead>\n",
       "    <tr style=\"text-align: left;\">\n",
       "      <th>Step</th>\n",
       "      <th>Training Loss</th>\n",
       "    </tr>\n",
       "  </thead>\n",
       "  <tbody>\n",
       "    <tr>\n",
       "      <td>25</td>\n",
       "      <td>1.847700</td>\n",
       "    </tr>\n",
       "    <tr>\n",
       "      <td>50</td>\n",
       "      <td>1.133700</td>\n",
       "    </tr>\n",
       "    <tr>\n",
       "      <td>75</td>\n",
       "      <td>1.115900</td>\n",
       "    </tr>\n",
       "    <tr>\n",
       "      <td>100</td>\n",
       "      <td>1.096400</td>\n",
       "    </tr>\n",
       "    <tr>\n",
       "      <td>125</td>\n",
       "      <td>1.075000</td>\n",
       "    </tr>\n",
       "    <tr>\n",
       "      <td>150</td>\n",
       "      <td>1.060100</td>\n",
       "    </tr>\n",
       "    <tr>\n",
       "      <td>175</td>\n",
       "      <td>1.050000</td>\n",
       "    </tr>\n",
       "  </tbody>\n",
       "</table><p>"
      ],
      "text/plain": [
       "<IPython.core.display.HTML object>"
      ]
     },
     "metadata": {},
     "output_type": "display_data"
    },
    {
     "data": {
      "text/plain": [
       "TrainOutput(global_step=192, training_loss=1.1836335062980652, metrics={'train_runtime': 146.3591, 'train_samples_per_second': 1.312, 'total_flos': 0, 'epoch': 4.0})"
      ]
     },
     "execution_count": 9,
     "metadata": {},
     "output_type": "execute_result"
    }
   ],
   "source": [
    "trainer.train()"
   ]
  },
  {
   "cell_type": "code",
   "execution_count": 10,
   "metadata": {},
   "outputs": [
    {
     "data": {
      "text/html": [
       "\n",
       "    <div>\n",
       "        <style>\n",
       "            /* Turns off some styling */\n",
       "            progress {\n",
       "                /* gets rid of default border in Firefox and Opera. */\n",
       "                border: none;\n",
       "                /* Needs to be in here for Safari polyfill so background images work as expected. */\n",
       "                background-size: auto;\n",
       "            }\n",
       "        </style>\n",
       "      \n",
       "      <progress value='6' max='2' style='width:300px; height:20px; vertical-align: middle;'></progress>\n",
       "      [2/2 01:56]\n",
       "    </div>\n",
       "    "
      ],
      "text/plain": [
       "<IPython.core.display.HTML object>"
      ]
     },
     "metadata": {},
     "output_type": "display_data"
    },
    {
     "name": "stderr",
     "output_type": "stream",
     "text": [
      "/home/nlp/.local/lib/python3.8/site-packages/transformers/data/metrics/__init__.py:66: FutureWarning: This metric will be removed from the library soon, metrics should be handled with the 🤗 Datasets library. You can have a look at this example script for pointers: https://github.com/huggingface/transformers/blob/master/examples/text-classification/run_glue.py\n",
      "  warnings.warn(DEPRECATION_WARNING, FutureWarning)\n",
      "/home/nlp/.local/lib/python3.8/site-packages/transformers/data/metrics/__init__.py:36: FutureWarning: This metric will be removed from the library soon, metrics should be handled with the 🤗 Datasets library. You can have a look at this example script for pointers: https://github.com/huggingface/transformers/blob/master/examples/text-classification/run_glue.py\n",
      "  warnings.warn(DEPRECATION_WARNING, FutureWarning)\n"
     ]
    },
    {
     "data": {
      "text/plain": [
       "{'eval_loss': 1.0526033639907837,\n",
       " 'eval_mnli/acc': 0.4360672440142639,\n",
       " 'eval_runtime': 0.4024,\n",
       " 'eval_samples_per_second': 24390.271,\n",
       " 'epoch': 4.0}"
      ]
     },
     "execution_count": 10,
     "metadata": {},
     "output_type": "execute_result"
    }
   ],
   "source": [
    "trainer.evaluate()"
   ]
  },
  {
   "cell_type": "code",
   "execution_count": 32,
   "metadata": {},
   "outputs": [],
   "source": [
    "# trainer.save_model()"
   ]
  },
  {
   "cell_type": "code",
   "execution_count": 134,
   "metadata": {},
   "outputs": [],
   "source": [
    "naive_valid_preds_obj = trainer.predict(mnli_valid_dataset)\n",
    "naive_train_preds_obj = trainer.predict(mnli_train_dataset)"
   ]
  },
  {
   "cell_type": "code",
   "execution_count": 85,
   "metadata": {},
   "outputs": [
    {
     "data": {
      "text/html": [
       "\n",
       "    <div>\n",
       "      \n",
       "      <progress value='163' max='154' style='width:300px; height:20px; vertical-align: middle;'></progress>\n",
       "      [154/154 05:37]\n",
       "    </div>\n",
       "    "
      ],
      "text/plain": [
       "<IPython.core.display.HTML object>"
      ]
     },
     "metadata": {},
     "output_type": "display_data"
    }
   ],
   "source": [
    "bert_valid_preds_obj = trainer.predict(mnli_valid_dataset)"
   ]
  },
  {
   "cell_type": "code",
   "execution_count": 88,
   "metadata": {},
   "outputs": [
    {
     "data": {
      "text/html": [
       "\n",
       "    <div>\n",
       "      \n",
       "      <progress value='6136' max='6136' style='width:300px; height:20px; vertical-align: middle;'></progress>\n",
       "      [6136/6136 33:46]\n",
       "    </div>\n",
       "    "
      ],
      "text/plain": [
       "<IPython.core.display.HTML object>"
      ]
     },
     "metadata": {},
     "output_type": "display_data"
    }
   ],
   "source": [
    "bert_train_preds_obj = trainer.predict(mnli_train_dataset)"
   ]
  },
  {
   "cell_type": "code",
   "execution_count": 10,
   "metadata": {},
   "outputs": [
    {
     "data": {
      "text/html": [
       "\n",
       "    <div>\n",
       "        <style>\n",
       "            /* Turns off some styling */\n",
       "            progress {\n",
       "                /* gets rid of default border in Firefox and Opera. */\n",
       "                border: none;\n",
       "                /* Needs to be in here for Safari polyfill so background images work as expected. */\n",
       "                background-size: auto;\n",
       "            }\n",
       "        </style>\n",
       "      \n",
       "      <progress value='154' max='154' style='width:300px; height:20px; vertical-align: middle;'></progress>\n",
       "      [154/154 00:40]\n",
       "    </div>\n",
       "    "
      ],
      "text/plain": [
       "<IPython.core.display.HTML object>"
      ]
     },
     "metadata": {},
     "output_type": "display_data"
    },
    {
     "name": "stderr",
     "output_type": "stream",
     "text": [
      "/home/nlp/.local/lib/python3.8/site-packages/transformers/data/metrics/__init__.py:66: FutureWarning: This metric will be removed from the library soon, metrics should be handled with the 🤗 Datasets library. You can have a look at this example script for pointers: https://github.com/huggingface/transformers/blob/master/examples/text-classification/run_glue.py\n",
      "  warnings.warn(DEPRECATION_WARNING, FutureWarning)\n",
      "/home/nlp/.local/lib/python3.8/site-packages/transformers/data/metrics/__init__.py:36: FutureWarning: This metric will be removed from the library soon, metrics should be handled with the 🤗 Datasets library. You can have a look at this example script for pointers: https://github.com/huggingface/transformers/blob/master/examples/text-classification/run_glue.py\n",
      "  warnings.warn(DEPRECATION_WARNING, FutureWarning)\n"
     ]
    }
   ],
   "source": [
    "bert_valid_mm_preds_obj = trainer.predict(mnli_mm_valid_dataset)"
   ]
  },
  {
   "cell_type": "code",
   "execution_count": 135,
   "metadata": {},
   "outputs": [],
   "source": [
    "naive_valid_preds = []\n",
    "naive_train_preds = []\n",
    "\n",
    "for preds in naive_valid_preds_obj.predictions:\n",
    "    naive_valid_preds.append(np.argmax(preds))\n",
    "    \n",
    "for preds in naive_train_preds_obj.predictions:\n",
    "    naive_train_preds.append(np.argmax(preds))"
   ]
  },
  {
   "cell_type": "code",
   "execution_count": 89,
   "metadata": {},
   "outputs": [],
   "source": [
    "bert_valid_preds = []\n",
    "bert_train_preds = []\n",
    "\n",
    "for preds in bert_valid_preds_obj.predictions:\n",
    "    bert_valid_preds.append(np.argmax(preds))\n",
    "    \n",
    "for preds in bert_train_preds_obj.predictions:\n",
    "    bert_train_preds.append(np.argmax(preds))"
   ]
  },
  {
   "cell_type": "code",
   "execution_count": 11,
   "metadata": {},
   "outputs": [],
   "source": [
    "bert_valid_mm_preds = []\n",
    "\n",
    "for preds in bert_valid_mm_preds_obj.predictions:\n",
    "    bert_valid_mm_preds.append(np.argmax(preds))"
   ]
  },
  {
   "cell_type": "code",
   "execution_count": 90,
   "metadata": {},
   "outputs": [],
   "source": [
    "# with open('/home/nlp/experiments/train_test_overlap/bert_solved_indices_valid.npy', 'wb') as f:\n",
    "#     np.save(f, bert_valid_solved_indices)\n",
    "    \n",
    "# with open('/home/nlp/experiments/train_test_overlap/bert_solved_indices_train.npy', 'wb') as f:\n",
    "#     np.save(f, bert_train_solved_indices)"
   ]
  },
  {
   "cell_type": "code",
   "execution_count": null,
   "metadata": {},
   "outputs": [],
   "source": [
    "# with open('/home/nlp/experiments/train_test_overlap/bert_solved_indices_valid.npy', 'wb') as f:\n",
    "#     np.save(f, bert_valid_solved_indices)"
   ]
  },
  {
   "cell_type": "code",
   "execution_count": 136,
   "metadata": {},
   "outputs": [],
   "source": [
    "naive_valid_solved_indices = np.where(naive_valid_preds_obj.label_ids == np.array(naive_valid_preds))[0]\n",
    "naive_train_solved_indices = np.where(naive_train_preds_obj.label_ids == np.array(naive_train_preds))[0]"
   ]
  },
  {
   "cell_type": "code",
   "execution_count": 41,
   "metadata": {},
   "outputs": [],
   "source": [
    "bert_valid_solved_indices = np.where(bert_valid_preds_obj.label_ids == np.array(bert_valid_preds))[0]\n",
    "bert_train_solved_indices = np.where(bert_train_preds_obj.label_ids == np.array(bert_train_preds))[0]"
   ]
  },
  {
   "cell_type": "code",
   "execution_count": 12,
   "metadata": {},
   "outputs": [],
   "source": [
    "bert_valid_mm_solved_indices = np.where(bert_valid_mm_preds_obj.label_ids == np.array(bert_valid_mm_preds))[0]"
   ]
  },
  {
   "cell_type": "code",
   "execution_count": 137,
   "metadata": {},
   "outputs": [],
   "source": [
    "# with open('/home/nlp/experiments/train_test_overlap/solved_indices_valid.npy', 'wb') as f:\n",
    "#     np.save(f, naive_valid_solved_indices)\n",
    "    \n",
    "# with open('/home/nlp/experiments/train_test_overlap/solved_indices_train.npy', 'wb') as f:\n",
    "#     np.save(f, naive_train_solved_indices)"
   ]
  },
  {
   "cell_type": "code",
   "execution_count": 338,
   "metadata": {},
   "outputs": [],
   "source": [
    "from sentence_transformers import SentenceTransformer, util\n",
    "model = SentenceTransformer('paraphrase-distilroberta-base-v1')"
   ]
  },
  {
   "cell_type": "code",
   "execution_count": 339,
   "metadata": {},
   "outputs": [
    {
     "data": {
      "text/plain": [
       "InputFeatures(input_ids=[101, 17158, 2135, 6949, 8301, 25057, 2038, 2048, 3937, 9646, 1011, 4031, 1998, 10505, 1012, 102, 4031, 1998, 10505, 2024, 2054, 2191, 6949, 8301, 25057, 2147, 1012, 102, 0, 0, 0, 0, 0, 0, 0, 0, 0, 0, 0, 0, 0, 0, 0, 0, 0, 0, 0, 0, 0, 0, 0, 0, 0, 0, 0, 0, 0, 0, 0, 0, 0, 0, 0, 0, 0, 0, 0, 0, 0, 0, 0, 0, 0, 0, 0, 0, 0, 0, 0, 0, 0, 0, 0, 0, 0, 0, 0, 0, 0, 0, 0, 0, 0, 0, 0, 0], attention_mask=[1, 1, 1, 1, 1, 1, 1, 1, 1, 1, 1, 1, 1, 1, 1, 1, 1, 1, 1, 1, 1, 1, 1, 1, 1, 1, 1, 1, 0, 0, 0, 0, 0, 0, 0, 0, 0, 0, 0, 0, 0, 0, 0, 0, 0, 0, 0, 0, 0, 0, 0, 0, 0, 0, 0, 0, 0, 0, 0, 0, 0, 0, 0, 0, 0, 0, 0, 0, 0, 0, 0, 0, 0, 0, 0, 0, 0, 0, 0, 0, 0, 0, 0, 0, 0, 0, 0, 0, 0, 0, 0, 0, 0, 0, 0, 0], token_type_ids=[0, 0, 0, 0, 0, 0, 0, 0, 0, 0, 0, 0, 0, 0, 0, 0, 1, 1, 1, 1, 1, 1, 1, 1, 1, 1, 1, 1, 0, 0, 0, 0, 0, 0, 0, 0, 0, 0, 0, 0, 0, 0, 0, 0, 0, 0, 0, 0, 0, 0, 0, 0, 0, 0, 0, 0, 0, 0, 0, 0, 0, 0, 0, 0, 0, 0, 0, 0, 0, 0, 0, 0, 0, 0, 0, 0, 0, 0, 0, 0, 0, 0, 0, 0, 0, 0, 0, 0, 0, 0, 0, 0, 0, 0, 0, 0], label=2)"
      ]
     },
     "execution_count": 339,
     "metadata": {},
     "output_type": "execute_result"
    }
   ],
   "source": [
    "mnli_train_dataset"
   ]
  },
  {
   "cell_type": "code",
   "execution_count": 353,
   "metadata": {},
   "outputs": [],
   "source": [
    "embeddings1 = model.encode(mnli_train_sentences, device='cuda')\n",
    "embeddings2 = model.encode(mnli_valid_sentences[0], device='cuda')"
   ]
  },
  {
   "cell_type": "code",
   "execution_count": 357,
   "metadata": {},
   "outputs": [
    {
     "data": {
      "text/plain": [
       "(768,)"
      ]
     },
     "execution_count": 357,
     "metadata": {},
     "output_type": "execute_result"
    }
   ],
   "source": [
    "embeddings2.shape"
   ]
  },
  {
   "cell_type": "code",
   "execution_count": 358,
   "metadata": {},
   "outputs": [],
   "source": [
    "cosine_scores = util.pytorch_cos_sim(embeddings1, embeddings2)"
   ]
  },
  {
   "cell_type": "code",
   "execution_count": 361,
   "metadata": {},
   "outputs": [
    {
     "data": {
      "text/plain": [
       "tensor(225724)"
      ]
     },
     "execution_count": 361,
     "metadata": {},
     "output_type": "execute_result"
    }
   ],
   "source": [
    "cosine_scores.argmax()"
   ]
  },
  {
   "cell_type": "code",
   "execution_count": 362,
   "metadata": {},
   "outputs": [
    {
     "data": {
      "text/plain": [
       "tensor([0.4772])"
      ]
     },
     "execution_count": 362,
     "metadata": {},
     "output_type": "execute_result"
    }
   ],
   "source": [
    "cosine_scores[225724]"
   ]
  },
  {
   "cell_type": "code",
   "execution_count": 350,
   "metadata": {},
   "outputs": [
    {
     "data": {
      "text/plain": [
       "'conceptually cream skimming has two basic dimensions - product and geography. product and geography are what make cream skimming work.'"
      ]
     },
     "execution_count": 350,
     "metadata": {},
     "output_type": "execute_result"
    }
   ],
   "source": [
    "mnli_train_sentences[0]"
   ]
  },
  {
   "cell_type": "code",
   "execution_count": 340,
   "metadata": {},
   "outputs": [
    {
     "name": "stderr",
     "output_type": "stream",
     "text": [
      "100%|██████████| 392702/392702 [00:42<00:00, 9341.66it/s]\n",
      "100%|██████████| 9815/9815 [00:01<00:00, 9321.72it/s]\n"
     ]
    }
   ],
   "source": [
    "mnli_train_sentences = []\n",
    "mnli_valid_sentences = []\n",
    "\n",
    "for sent in tqdm(mnli_train_dataset):\n",
    "    mnli_train_sentences.append(tokenizer.decode(sent.input_ids, skip_special_tokens=True).lower())\n",
    "    \n",
    "for sent in tqdm(mnli_valid_dataset):\n",
    "    mnli_valid_sentences.append(tokenizer.decode(sent.input_ids, skip_special_tokens=True).lower())"
   ]
  },
  {
   "cell_type": "code",
   "execution_count": 48,
   "metadata": {},
   "outputs": [
    {
     "name": "stderr",
     "output_type": "stream",
     "text": [
      "100%|██████████| 392702/392702 [44:00<00:00, 148.74it/s]\n"
     ]
    }
   ],
   "source": [
    "# mnli_train_embeddings = []\n",
    "# for sent in tqdm(mnli_train_sentences):\n",
    "#     mnli_train_embeddings.append(model.encode(sent, convert_to_tensor=True))"
   ]
  },
  {
   "cell_type": "code",
   "execution_count": 49,
   "metadata": {},
   "outputs": [
    {
     "name": "stderr",
     "output_type": "stream",
     "text": [
      "100%|██████████| 9815/9815 [01:06<00:00, 147.95it/s]\n"
     ]
    }
   ],
   "source": [
    "# mnli_valid_embeddings = []\n",
    "# for sent in tqdm(mnli_valid_sentences):\n",
    "#     mnli_valid_embeddings.append(model.encode(sent, convert_to_tensor=True))"
   ]
  },
  {
   "cell_type": "code",
   "execution_count": 21,
   "metadata": {},
   "outputs": [],
   "source": [
    "import re\n",
    "from collections import Counter\n",
    "import math\n",
    "\n",
    "pattern = re.compile('[\\W_]+')"
   ]
  },
  {
   "cell_type": "code",
   "execution_count": 42,
   "metadata": {},
   "outputs": [],
   "source": [
    "# cosine_dict = []\n",
    "\n",
    "# # for idx, valid_sent in tqdm(enumerate(mnli_valid_embeddings)):\n",
    "# for idx, valid_sent in tqdm(enumerate(mnli_valid_sentences)):\n",
    "#     valid_sent = pattern.sub(' ', valid_sent)\n",
    "#     temp_dict = {}\n",
    "#     max_val = 0\n",
    "#     sim_sent = \"\"\n",
    "    \n",
    "# #     for train_sent in mnli_train_embeddings:\n",
    "# #         cosine_score = util.pytorch_cos_sim(train_sent, valid_sent)[0][0].item()\n",
    "#     for train_sent in mnli_train_sentences:\n",
    "#         train_sent = pattern.sub(' ', train_sent)\n",
    "#         cosine_score = cosine_similarity_ngrams(valid_sent.split(), train_sent.split())\n",
    "#         if cosine_score > max_val:\n",
    "#             max_val = cosine_score\n",
    "#             sim_sent = train_sent\n",
    "            \n",
    "#     temp_dict['sim_sent'] = sim_sent\n",
    "#     temp_dict['max_val'] = max_val\n",
    "#     cosine_dict.append(temp_dict)\n",
    "    \n",
    "#     print('Cosine: ', max_val)\n",
    "#     print('Valid: ', mnli_valid_sentences[idx])\n",
    "#     print('Train: ', mnli_train_sentences[idx])\n",
    "#     print()"
   ]
  },
  {
   "cell_type": "code",
   "execution_count": 14,
   "metadata": {},
   "outputs": [],
   "source": [
    "import pickle"
   ]
  },
  {
   "cell_type": "code",
   "execution_count": 17,
   "metadata": {},
   "outputs": [],
   "source": [
    "solved_indices_valid = np.load(\"/home/nlp/experiments/train_test_overlap/solved_indices_valid.npy\")\n",
    "solved_indices_train = np.load(\"/home/nlp/experiments/train_test_overlap/solved_indices_train.npy\")"
   ]
  },
  {
   "cell_type": "code",
   "execution_count": 15,
   "metadata": {},
   "outputs": [],
   "source": [
    "with open(\"/home/nlp/experiments/train_test_overlap/similarity-mm-lo.bin\", \"rb\") as f:\n",
    "    sim_data = pickle.load(f)"
   ]
  },
  {
   "cell_type": "code",
   "execution_count": 18,
   "metadata": {},
   "outputs": [],
   "source": [
    "for i in range(len(sim_data)):\n",
    "    if sim_data[i]['train_idx'] in solved_indices_train:\n",
    "        sim_data[i]['naive_train'] = 1\n",
    "    else:\n",
    "        sim_data[i]['naive_train'] = 0\n",
    "    \n",
    "    if sim_data[i]['valid_idx'] in solved_indices_valid:\n",
    "        sim_data[i]['naive_valid'] = 1\n",
    "    else:\n",
    "        sim_data[i]['naive_valid'] = 0\n",
    "    sim_data[i]['cartography'] = None"
   ]
  },
  {
   "cell_type": "code",
   "execution_count": 36,
   "metadata": {
    "collapsed": true
   },
   "outputs": [
    {
     "ename": "RuntimeError",
     "evalue": "[enforce fail at inline_container.cc:222] . file not found: archive/data.pkl",
     "output_type": "error",
     "traceback": [
      "\u001b[0;31m---------------------------------------------------------------------------\u001b[0m",
      "\u001b[0;31mRuntimeError\u001b[0m                              Traceback (most recent call last)",
      "\u001b[0;32m<ipython-input-36-86f06ee07a4e>\u001b[0m in \u001b[0;36m<module>\u001b[0;34m\u001b[0m\n\u001b[1;32m     20\u001b[0m \u001b[0;34m\u001b[0m\u001b[0m\n\u001b[1;32m     21\u001b[0m \u001b[0mmnli_easy_dataset\u001b[0m \u001b[0;34m=\u001b[0m \u001b[0mGlueDataset\u001b[0m\u001b[0;34m(\u001b[0m\u001b[0mmnli_easy_data_args\u001b[0m\u001b[0;34m,\u001b[0m \u001b[0mtokenizer\u001b[0m\u001b[0;34m,\u001b[0m \u001b[0mmode\u001b[0m\u001b[0;34m=\u001b[0m\u001b[0;34m\"train\"\u001b[0m\u001b[0;34m)\u001b[0m\u001b[0;34m\u001b[0m\u001b[0;34m\u001b[0m\u001b[0m\n\u001b[0;32m---> 22\u001b[0;31m \u001b[0mmnli_ambiguous_dataset\u001b[0m \u001b[0;34m=\u001b[0m \u001b[0mGlueDataset\u001b[0m\u001b[0;34m(\u001b[0m\u001b[0mmnli_ambiguous_data_args\u001b[0m\u001b[0;34m,\u001b[0m \u001b[0mtokenizer\u001b[0m\u001b[0;34m,\u001b[0m \u001b[0mmode\u001b[0m\u001b[0;34m=\u001b[0m\u001b[0;34m\"train\"\u001b[0m\u001b[0;34m)\u001b[0m\u001b[0;34m\u001b[0m\u001b[0;34m\u001b[0m\u001b[0m\n\u001b[0m\u001b[1;32m     23\u001b[0m \u001b[0mmnli_hard_dataset\u001b[0m \u001b[0;34m=\u001b[0m \u001b[0mGlueDataset\u001b[0m\u001b[0;34m(\u001b[0m\u001b[0mmnli_hard_data_args\u001b[0m\u001b[0;34m,\u001b[0m \u001b[0mtokenizer\u001b[0m\u001b[0;34m,\u001b[0m \u001b[0mmode\u001b[0m\u001b[0;34m=\u001b[0m\u001b[0;34m\"train\"\u001b[0m\u001b[0;34m)\u001b[0m\u001b[0;34m\u001b[0m\u001b[0;34m\u001b[0m\u001b[0m\n",
      "\u001b[0;32m~/.local/lib/python3.8/site-packages/transformers/data/datasets/glue.py\u001b[0m in \u001b[0;36m__init__\u001b[0;34m(self, args, tokenizer, limit_length, mode, cache_dir)\u001b[0m\n\u001b[1;32m    128\u001b[0m             \u001b[0;32mif\u001b[0m \u001b[0mos\u001b[0m\u001b[0;34m.\u001b[0m\u001b[0mpath\u001b[0m\u001b[0;34m.\u001b[0m\u001b[0mexists\u001b[0m\u001b[0;34m(\u001b[0m\u001b[0mcached_features_file\u001b[0m\u001b[0;34m)\u001b[0m \u001b[0;32mand\u001b[0m \u001b[0;32mnot\u001b[0m \u001b[0margs\u001b[0m\u001b[0;34m.\u001b[0m\u001b[0moverwrite_cache\u001b[0m\u001b[0;34m:\u001b[0m\u001b[0;34m\u001b[0m\u001b[0;34m\u001b[0m\u001b[0m\n\u001b[1;32m    129\u001b[0m                 \u001b[0mstart\u001b[0m \u001b[0;34m=\u001b[0m \u001b[0mtime\u001b[0m\u001b[0;34m.\u001b[0m\u001b[0mtime\u001b[0m\u001b[0;34m(\u001b[0m\u001b[0;34m)\u001b[0m\u001b[0;34m\u001b[0m\u001b[0;34m\u001b[0m\u001b[0m\n\u001b[0;32m--> 130\u001b[0;31m                 \u001b[0mself\u001b[0m\u001b[0;34m.\u001b[0m\u001b[0mfeatures\u001b[0m \u001b[0;34m=\u001b[0m \u001b[0mtorch\u001b[0m\u001b[0;34m.\u001b[0m\u001b[0mload\u001b[0m\u001b[0;34m(\u001b[0m\u001b[0mcached_features_file\u001b[0m\u001b[0;34m)\u001b[0m\u001b[0;34m\u001b[0m\u001b[0;34m\u001b[0m\u001b[0m\n\u001b[0m\u001b[1;32m    131\u001b[0m                 logger.info(\n\u001b[1;32m    132\u001b[0m                     \u001b[0;34mf\"Loading features from cached file {cached_features_file} [took %.3f s]\"\u001b[0m\u001b[0;34m,\u001b[0m \u001b[0mtime\u001b[0m\u001b[0;34m.\u001b[0m\u001b[0mtime\u001b[0m\u001b[0;34m(\u001b[0m\u001b[0;34m)\u001b[0m \u001b[0;34m-\u001b[0m \u001b[0mstart\u001b[0m\u001b[0;34m\u001b[0m\u001b[0;34m\u001b[0m\u001b[0m\n",
      "\u001b[0;32m~/.local/lib/python3.8/site-packages/torch/serialization.py\u001b[0m in \u001b[0;36mload\u001b[0;34m(f, map_location, pickle_module, **pickle_load_args)\u001b[0m\n\u001b[1;32m    592\u001b[0m                     \u001b[0mopened_file\u001b[0m\u001b[0;34m.\u001b[0m\u001b[0mseek\u001b[0m\u001b[0;34m(\u001b[0m\u001b[0morig_position\u001b[0m\u001b[0;34m)\u001b[0m\u001b[0;34m\u001b[0m\u001b[0;34m\u001b[0m\u001b[0m\n\u001b[1;32m    593\u001b[0m                     \u001b[0;32mreturn\u001b[0m \u001b[0mtorch\u001b[0m\u001b[0;34m.\u001b[0m\u001b[0mjit\u001b[0m\u001b[0;34m.\u001b[0m\u001b[0mload\u001b[0m\u001b[0;34m(\u001b[0m\u001b[0mopened_file\u001b[0m\u001b[0;34m)\u001b[0m\u001b[0;34m\u001b[0m\u001b[0;34m\u001b[0m\u001b[0m\n\u001b[0;32m--> 594\u001b[0;31m                 \u001b[0;32mreturn\u001b[0m \u001b[0m_load\u001b[0m\u001b[0;34m(\u001b[0m\u001b[0mopened_zipfile\u001b[0m\u001b[0;34m,\u001b[0m \u001b[0mmap_location\u001b[0m\u001b[0;34m,\u001b[0m \u001b[0mpickle_module\u001b[0m\u001b[0;34m,\u001b[0m \u001b[0;34m**\u001b[0m\u001b[0mpickle_load_args\u001b[0m\u001b[0;34m)\u001b[0m\u001b[0;34m\u001b[0m\u001b[0;34m\u001b[0m\u001b[0m\n\u001b[0m\u001b[1;32m    595\u001b[0m         \u001b[0;32mreturn\u001b[0m \u001b[0m_legacy_load\u001b[0m\u001b[0;34m(\u001b[0m\u001b[0mopened_file\u001b[0m\u001b[0;34m,\u001b[0m \u001b[0mmap_location\u001b[0m\u001b[0;34m,\u001b[0m \u001b[0mpickle_module\u001b[0m\u001b[0;34m,\u001b[0m \u001b[0;34m**\u001b[0m\u001b[0mpickle_load_args\u001b[0m\u001b[0;34m)\u001b[0m\u001b[0;34m\u001b[0m\u001b[0;34m\u001b[0m\u001b[0m\n\u001b[1;32m    596\u001b[0m \u001b[0;34m\u001b[0m\u001b[0m\n",
      "\u001b[0;32m~/.local/lib/python3.8/site-packages/torch/serialization.py\u001b[0m in \u001b[0;36m_load\u001b[0;34m(zip_file, map_location, pickle_module, pickle_file, **pickle_load_args)\u001b[0m\n\u001b[1;32m    848\u001b[0m \u001b[0;34m\u001b[0m\u001b[0m\n\u001b[1;32m    849\u001b[0m     \u001b[0;31m# Load the data (which may in turn use `persistent_load` to load tensors)\u001b[0m\u001b[0;34m\u001b[0m\u001b[0;34m\u001b[0m\u001b[0;34m\u001b[0m\u001b[0m\n\u001b[0;32m--> 850\u001b[0;31m     \u001b[0mdata_file\u001b[0m \u001b[0;34m=\u001b[0m \u001b[0mio\u001b[0m\u001b[0;34m.\u001b[0m\u001b[0mBytesIO\u001b[0m\u001b[0;34m(\u001b[0m\u001b[0mzip_file\u001b[0m\u001b[0;34m.\u001b[0m\u001b[0mget_record\u001b[0m\u001b[0;34m(\u001b[0m\u001b[0mpickle_file\u001b[0m\u001b[0;34m)\u001b[0m\u001b[0;34m)\u001b[0m\u001b[0;34m\u001b[0m\u001b[0;34m\u001b[0m\u001b[0m\n\u001b[0m\u001b[1;32m    851\u001b[0m     \u001b[0munpickler\u001b[0m \u001b[0;34m=\u001b[0m \u001b[0mpickle_module\u001b[0m\u001b[0;34m.\u001b[0m\u001b[0mUnpickler\u001b[0m\u001b[0;34m(\u001b[0m\u001b[0mdata_file\u001b[0m\u001b[0;34m,\u001b[0m \u001b[0;34m**\u001b[0m\u001b[0mpickle_load_args\u001b[0m\u001b[0;34m)\u001b[0m\u001b[0;34m\u001b[0m\u001b[0;34m\u001b[0m\u001b[0m\n\u001b[1;32m    852\u001b[0m     \u001b[0munpickler\u001b[0m\u001b[0;34m.\u001b[0m\u001b[0mpersistent_load\u001b[0m \u001b[0;34m=\u001b[0m \u001b[0mpersistent_load\u001b[0m\u001b[0;34m\u001b[0m\u001b[0;34m\u001b[0m\u001b[0m\n",
      "\u001b[0;31mRuntimeError\u001b[0m: [enforce fail at inline_container.cc:222] . file not found: archive/data.pkl"
     ]
    }
   ],
   "source": [
    "mnli_hard_data_args = DataTrainingArguments(task_name = 'mnli',\n",
    "                                       max_seq_length= 96,\n",
    "                                       data_dir = '/home/nlp/cartography/filtered/' + 'bert_base' + '_hard_mnli/cartography_confidence_0.75/MNLI')\n",
    "\n",
    "mnli_easy_data_args = DataTrainingArguments(task_name = 'mnli',\n",
    "                                       max_seq_length= 96,\n",
    "                                       data_dir = '/home/nlp/cartography/filtered/' + 'bert_base' + '_easy_mnli/cartography_confidence_0.75/MNLI')\n",
    "\n",
    "mnli_ambiguous_data_args = DataTrainingArguments(task_name = 'mnli',\n",
    "                                       max_seq_length= 96,\n",
    "                                       data_dir = '/home/nlp/cartography/filtered/' + 'bert_base' + '_ambiguous_mnli/cartography_variability_0.75/MNLI')\n",
    "\n",
    "\n",
    "mnli_data_args = DataTrainingArguments(task_name = 'mnli',\n",
    "                                       max_seq_length= 96,\n",
    "                                       data_dir = '/home/nlp/data/glue_data/MNLI')\n",
    "\n",
    "# mnli_train_dataset = GlueDataset(mnli_data_args, tokenizer, mode=\"train\")\n",
    "# mnli_valid_dataset = GlueDataset(mnli_data_args, tokenizer, mode=\"dev\")\n",
    "\n",
    "mnli_easy_dataset = GlueDataset(mnli_easy_data_args, tokenizer, mode=\"train\")\n",
    "mnli_ambiguous_dataset = GlueDataset(mnli_ambiguous_data_args, tokenizer, mode=\"train\")\n",
    "mnli_hard_dataset = GlueDataset(mnli_hard_data_args, tokenizer, mode=\"train\")"
   ]
  },
  {
   "cell_type": "code",
   "execution_count": null,
   "metadata": {},
   "outputs": [],
   "source": [
    "mnli_easy_sentences = []\n",
    "mnli_ambiguous_sentences = []\n",
    "mnli_hard_sentences = []\n",
    "\n",
    "for sent in tqdm(mnli_easy_dataset):\n",
    "    mnli_easy_sentences.append(pattern.sub(' ', tokenizer.decode(sent.input_ids, skip_special_tokens=True)))\n",
    "    \n",
    "for sent in tqdm(mnli_ambiguous_dataset):\n",
    "    mnli_ambiguous_sentences.append(pattern.sub(' ', tokenizer.decode(sent.input_ids, skip_special_tokens=True)))\n",
    "    \n",
    "for sent in tqdm(mnli_hard_dataset):\n",
    "    mnli_hard_sentences.append(pattern.sub(' ', tokenizer.decode(sent.input_ids, skip_special_tokens=True)))"
   ]
  },
  {
   "cell_type": "code",
   "execution_count": null,
   "metadata": {},
   "outputs": [],
   "source": [
    "for i in trange(len(sim_data)):\n",
    "#     easy_flag, ambiguous_flag, hard_flag = False, False, False\n",
    "    \n",
    "    if sim_data[i]['cartography'] is not None:\n",
    "        continue\n",
    "    \n",
    "    sent = sim_data[i]['sim_sent']\n",
    "    sent = pattern.sub(' ', sent)\n",
    "    \n",
    "    for easy_item, ambi_item, hard_item in zip(mnli_easy_sentences, mnli_ambiguous_dataset, mnli_hard_sentences):\n",
    "        if sent == easy_item:\n",
    "            sim_data[i]['cartography'] = 'easy'\n",
    "            break\n",
    "        if sent == ambi_item:\n",
    "            sim_data[i]['cartography'] = 'ambiguous'\n",
    "            break\n",
    "        if sent == hard_item:\n",
    "            sim_data[i]['cartography'] = 'hard'\n",
    "            break"
   ]
  },
  {
   "cell_type": "code",
   "execution_count": 37,
   "metadata": {},
   "outputs": [
    {
     "name": "stdout",
     "output_type": "stream",
     "text": [
      "345\n"
     ]
    }
   ],
   "source": [
    "cnt = 0\n",
    "for i in sim_data:\n",
    "    if i['cartography'] is not None:\n",
    "        cnt += 1\n",
    "print(cnt)"
   ]
  },
  {
   "cell_type": "code",
   "execution_count": 26,
   "metadata": {},
   "outputs": [
    {
     "data": {
      "text/plain": [
       "9815"
      ]
     },
     "execution_count": 26,
     "metadata": {},
     "output_type": "execute_result"
    }
   ],
   "source": [
    "len(mnli_valid_dataset)"
   ]
  },
  {
   "cell_type": "code",
   "execution_count": 45,
   "metadata": {},
   "outputs": [],
   "source": [
    "for i in range(len(sim_data)):\n",
    "    sim_data[i]['max_val'] = sim_data[i]['max_val'].item()\n",
    "    sim_data[i]['train_idx'] = sim_data[i]['train_idx'].item()"
   ]
  },
  {
   "cell_type": "code",
   "execution_count": 46,
   "metadata": {},
   "outputs": [],
   "source": [
    "# with open(\"/home/nlp/experiments/train_test_overlap/total_sim_sts.json\", \"w\") as f:\n",
    "#     json.dump(sim_data, f)"
   ]
  },
  {
   "cell_type": "code",
   "execution_count": 24,
   "metadata": {},
   "outputs": [],
   "source": [
    "with open(\"/home/nlp/experiments/train_test_overlap/total_sim_sts.json\", \"r\") as f:\n",
    "    sim_data = json.load(f)"
   ]
  },
  {
   "cell_type": "code",
   "execution_count": 38,
   "metadata": {},
   "outputs": [],
   "source": [
    "easy_cnt = 0\n",
    "ambi_cnt = 0\n",
    "hard_cnt = 0\n",
    "\n",
    "for i in sim_data:\n",
    "    if i['cartography'] == 'easy':\n",
    "        easy_cnt += 1\n",
    "    if i['cartography'] == 'ambiguous':\n",
    "        ambi_cnt += 1\n",
    "    if i['cartography'] == 'hard':\n",
    "        hard_cnt += 1"
   ]
  },
  {
   "cell_type": "code",
   "execution_count": 39,
   "metadata": {},
   "outputs": [
    {
     "data": {
      "text/plain": [
       "(149, 196, 0)"
      ]
     },
     "execution_count": 39,
     "metadata": {},
     "output_type": "execute_result"
    }
   ],
   "source": [
    "easy_cnt, hard_cnt, ambi_cnt"
   ]
  },
  {
   "cell_type": "code",
   "execution_count": 191,
   "metadata": {},
   "outputs": [],
   "source": [
    "max_vals = []\n",
    "for i in sim_data:\n",
    "    max_vals.append(i['max_val'])"
   ]
  },
  {
   "cell_type": "code",
   "execution_count": 195,
   "metadata": {},
   "outputs": [],
   "source": [
    "max_vals.sort()"
   ]
  },
  {
   "cell_type": "code",
   "execution_count": 206,
   "metadata": {},
   "outputs": [
    {
     "data": {
      "text/plain": [
       "(array([  46.,  417., 1355., 2441., 2555., 1639.,  715.,  322.,  256.,\n",
       "          69.]),\n",
       " array([0.26967994, 0.34271195, 0.41574396, 0.48877596, 0.56180797,\n",
       "        0.63483997, 0.70787198, 0.78090398, 0.85393599, 0.92696799,\n",
       "        1.        ]),\n",
       " <a list of 10 Patch objects>)"
      ]
     },
     "execution_count": 206,
     "metadata": {},
     "output_type": "execute_result"
    },
    {
     "data": {
      "image/png": "[encoded data removed]",
      "text/plain": [
       "<Figure size 432x288 with 1 Axes>"
      ]
     },
     "metadata": {
      "needs_background": "light"
     },
     "output_type": "display_data"
    }
   ],
   "source": [
    "plt.hist(max_vals, bins=10)"
   ]
  },
  {
   "cell_type": "code",
   "execution_count": 187,
   "metadata": {},
   "outputs": [
    {
     "data": {
      "text/plain": [
       "5011"
      ]
     },
     "execution_count": 187,
     "metadata": {},
     "output_type": "execute_result"
    }
   ],
   "source": [
    "# easy_cnt 5011\n",
    "# hard_cnt 4804"
   ]
  },
  {
   "cell_type": "code",
   "execution_count": 40,
   "metadata": {},
   "outputs": [
    {
     "data": {
      "text/plain": [
       "{'sim_sent': 'but its not but its not set up as a giveaway if it were set up as giveaway and it was something that i mean our our president and our leaders could be seeking god saying god is it your will for us to bless this nation with this money is it your will this money and your will for us to give to them and i believe if we gave it no strings the churches preach for us to give away things no strings attached',\n",
       " 'max_val': 0.423355354777398,\n",
       " 'train_idx': 90278,\n",
       " 'valid_idx': 0,\n",
       " 'naive_train': 0,\n",
       " 'naive_valid': 1,\n",
       " 'cartography': None}"
      ]
     },
     "execution_count": 40,
     "metadata": {},
     "output_type": "execute_result"
    }
   ],
   "source": [
    "sim_data[0]"
   ]
  },
  {
   "cell_type": "code",
   "execution_count": 13,
   "metadata": {},
   "outputs": [],
   "source": [
    "# total_data = []\n",
    "\n",
    "# for i in range(len(sim_data)):\n",
    "#     val = {}\n",
    "#     val.update(sim_data[i])\n",
    "#     val['valid'] = tokenizer.decode(mnli_valid_dataset[sim_data[i]['valid_idx']].input_ids,skip_special_tokens=True)\n",
    "#     val['train'] = tokenizer.decode(mnli_train_dataset[sim_data[i]['train_idx']].input_ids,skip_special_tokens=True)\n",
    "#     total_data.append(val)\n",
    "# with open(\"/home/nlp/experiments/train_test_overlap/data_all.json\", \"w\") as f:\n",
    "#     json.dump(total_data, f, indent=4)"
   ]
  },
  {
   "cell_type": "code",
   "execution_count": 43,
   "metadata": {},
   "outputs": [],
   "source": [
    "for i in range(len(sim_data)):\n",
    "    if i in bert_valid_mm_solved_indices: \n",
    "        sim_data[i]['bert_valid_mm'] = 1\n",
    "    else:\n",
    "        sim_data[i]['bert_valid_mm'] = 0"
   ]
  },
  {
   "cell_type": "code",
   "execution_count": 44,
   "metadata": {},
   "outputs": [],
   "source": [
    "for i in range(len(sim_data)):\n",
    "    if i in bert_train_solved_indices: \n",
    "        sim_data[i]['bert_train'] = 1\n",
    "    else:\n",
    "        sim_data[i]['bert_train'] = 0"
   ]
  },
  {
   "cell_type": "code",
   "execution_count": 45,
   "metadata": {},
   "outputs": [
    {
     "data": {
      "text/plain": [
       "{'sim_sent': 'american credibility is at stake. american credibility could become either better or worse.',\n",
       " 'max_val': 0.5366520881652832,\n",
       " 'train_idx': 17053,\n",
       " 'valid_idx': 100,\n",
       " 'naive_train': 0,\n",
       " 'naive_valid': 1,\n",
       " 'cartography': 'hard',\n",
       " 'bert_valid': 1,\n",
       " 'bert_train': 1}"
      ]
     },
     "execution_count": 45,
     "metadata": {},
     "output_type": "execute_result"
    }
   ],
   "source": [
    "sim_data[100]"
   ]
  },
  {
   "cell_type": "code",
   "execution_count": 53,
   "metadata": {},
   "outputs": [],
   "source": [
    "for i in sim_data:\n",
    "    min_val = min(min_val, i['max_val'])"
   ]
  },
  {
   "cell_type": "code",
   "execution_count": 41,
   "metadata": {},
   "outputs": [],
   "source": [
    "def get_accuracy(min_range, max_range, category):\n",
    "    bert_accuracy = 0\n",
    "    naive_accuracy = 0\n",
    "    cnt = 0\n",
    "    sim_scores = []\n",
    "    for i in sim_data:\n",
    "        if min_range <= i['max_val']*100 <= max_range:\n",
    "#             if i['cartography'] == category:\n",
    "            if i['bert_valid_mm'] == 1:\n",
    "                bert_accuracy += 1\n",
    "            if i['naive_valid'] == 1:\n",
    "                naive_accuracy += 1\n",
    "            sim_scores.append(i['max_val']*0.01)\n",
    "            cnt += 1\n",
    "    return naive_accuracy/cnt*100, bert_accuracy/cnt*100, sim_scores"
   ]
  },
  {
   "cell_type": "code",
   "execution_count": 44,
   "metadata": {},
   "outputs": [
    {
     "data": {
      "image/png": "[encoded data removed]",
      "text/plain": [
       "<Figure size 432x288 with 1 Axes>"
      ]
     },
     "metadata": {
      "needs_background": "light"
     },
     "output_type": "display_data"
    }
   ],
   "source": [
    "# naive_acc_20_30, bert_acc_20_30, sim_scores_20_30 =  get_accuracy(20, 30, 'easy')\n",
    "naive_acc_30_40, bert_acc_30_40, sim_scores_30_40 =  get_accuracy(30, 40, 'easy')\n",
    "naive_acc_40_50, bert_acc_40_50, sim_scores_40_50 =  get_accuracy(40, 50, 'easy')\n",
    "naive_acc_50_60, bert_acc_50_60, sim_scores_50_60 =  get_accuracy(50, 60, 'easy')\n",
    "naive_acc_60_70, bert_acc_60_70, sim_scores_60_70 =  get_accuracy(60, 70, 'easy')\n",
    "naive_acc_70_80, bert_acc_70_80, sim_scores_70_80 =  get_accuracy(70, 80, 'easy')\n",
    "naive_acc_80_90, bert_acc_80_90, sim_scores_80_90 =  get_accuracy(80, 90, 'easy')\n",
    "naive_acc_90_100, bert_acc_90_100, sim_scores_90_100 =  get_accuracy(90, 100, 'easy')\n",
    "\n",
    "width = 0.04\n",
    "\n",
    "plt.text(0.325, bert_acc_30_40+1, len(sim_scores_30_40))\n",
    "# plt.bar(0.325, height =  naive_acc_30_40, width=width, color='lightskyblue')\n",
    "plt.bar(0.375, height =  bert_acc_30_40, width=width, color='lightcoral')\n",
    "\n",
    "plt.text(0.425, bert_acc_40_50+1, len(sim_scores_40_50))\n",
    "# plt.bar(0.425, height =  naive_acc_40_50, width=width, color='lightskyblue')\n",
    "plt.bar(0.475, height =  bert_acc_40_50, width=width, color='lightcoral')\n",
    "\n",
    "plt.text(0.525, bert_acc_50_60+1, len(sim_scores_50_60))\n",
    "# plt.bar(0.525, height =  naive_acc_50_60, width=width, color='lightskyblue')\n",
    "plt.bar(0.575, height =  bert_acc_50_60, width=width, color='lightcoral')\n",
    "\n",
    "plt.text(0.625, bert_acc_60_70+1, len(sim_scores_60_70))\n",
    "# plt.bar(0.625, height =  naive_acc_60_70, width=width, color='lightskyblue')\n",
    "plt.bar(0.675, height =  bert_acc_60_70, width=width, color='lightcoral')\n",
    "\n",
    "plt.text(0.725, bert_acc_70_80+1, len(sim_scores_70_80))\n",
    "# plt.bar(0.725, height =  naive_acc_70_80, width=width, color='lightskyblue')\n",
    "plt.bar(0.775, height =  bert_acc_70_80, width=width, color='lightcoral')\n",
    "\n",
    "plt.text(0.825, bert_acc_80_90+1, len(sim_scores_80_90))\n",
    "# plt.bar(0.825, height =  naive_acc_80_90, width=width, color='lightskyblue')\n",
    "plt.bar(0.875, height =  bert_acc_80_90, width=width, color='lightcoral')\n",
    "\n",
    "plt.text(0.925, bert_acc_90_100+1, len(sim_scores_90_100))\n",
    "# plt.bar(0.925, height =  naive_acc_90_100, width=width, color='lightskyblue')\n",
    "plt.bar(0.975, height =  bert_acc_90_100, width=width, color='lightcoral')\n",
    "\n",
    "# plt.title('Easy')\n",
    "plt.ylim(80, 100)\n",
    "\n",
    "\n",
    "plt.text(0.5, 94, 'bert-base', fontsize=12) \n",
    "plt.plot(0.48, 95, marker = 'o', color='lightcoral')\n",
    "\n",
    "# plt.text(0.50, 94, 'naive', fontsize=12) \n",
    "# plt.plot(0.48, 95, marker = 'o', color='lightskyblue') \n",
    "\n",
    "\n",
    "plt.ylabel('Accuracy')\n",
    "plt.xlabel('Similarity')\n",
    "\n",
    "# plt.savefig('../figs/overlap_merge.pdf')\n",
    "plt.show()"
   ]
  },
  {
   "cell_type": "code",
   "execution_count": 117,
   "metadata": {},
   "outputs": [
    {
     "data": {
      "text/plain": [
       "6775"
      ]
     },
     "execution_count": 117,
     "metadata": {},
     "output_type": "execute_result"
    }
   ],
   "source": [
    "4699+1585+357+115+19"
   ]
  },
  {
   "cell_type": "code",
   "execution_count": 52,
   "metadata": {},
   "outputs": [
    {
     "data": {
      "image/png": "[encoded data removed]",
      "text/plain": [
       "<Figure size 432x288 with 1 Axes>"
      ]
     },
     "metadata": {
      "needs_background": "light"
     },
     "output_type": "display_data"
    }
   ],
   "source": [
    "# naive_acc_20_30, bert_acc_20_30, sim_scores_20_30 =  get_accuracy(20, 30, 'hard')\n",
    "naive_acc_30_40, bert_acc_30_40, sim_scores_30_40 =  get_accuracy(30, 40, 'hard')\n",
    "naive_acc_40_50, bert_acc_40_50, sim_scores_40_50 =  get_accuracy(40, 50, 'hard')\n",
    "naive_acc_50_60, bert_acc_50_60, sim_scores_50_60 =  get_accuracy(50, 60, 'hard')\n",
    "naive_acc_60_70, bert_acc_60_70, sim_scores_60_70 =  get_accuracy(60, 70, 'hard')\n",
    "naive_acc_70_80, bert_acc_70_80, sim_scores_70_80 =  get_accuracy(70, 80, 'hard')\n",
    "naive_acc_80_90, bert_acc_80_90, sim_scores_80_90 =  get_accuracy(80, 90, 'hard')\n",
    "naive_acc_90_100, bert_acc_90_100, sim_scores_90_100 =  get_accuracy(90, 100, 'hard')\n",
    "\n",
    "# plt.text(0.225, bert_acc_20_30+1, len(sim_scores_20_30))\n",
    "# plt.bar(0.225, height = naive_acc_20_30, width=width, color='lightskyblue')\n",
    "# plt.bar(0.275, height =  bert_acc_20_30, width=width, color='lightcoral')\n",
    "\n",
    "# plt.text(0.325, bert_acc_30_40+1, len(sim_scores_30_40))\n",
    "# plt.bar(0.325, height =  naive_acc_30_40, width=width, color='lightskyblue')\n",
    "# plt.bar(0.375, height =  bert_acc_30_40, width=width, color='lightcoral')\n",
    "\n",
    "plt.text(0.425, bert_acc_40_50+1, len(sim_scores_40_50))\n",
    "plt.bar(0.425, height =  naive_acc_40_50, width=width, color='lightskyblue')\n",
    "plt.bar(0.475, height =  bert_acc_40_50, width=width, color='lightcoral')\n",
    "\n",
    "plt.text(0.525, bert_acc_50_60+1, len(sim_scores_50_60))\n",
    "plt.bar(0.525, height =  naive_acc_50_60, width=width, color='lightskyblue')\n",
    "plt.bar(0.575, height =  bert_acc_50_60, width=width, color='lightcoral')\n",
    "\n",
    "plt.text(0.625, bert_acc_60_70+1, len(sim_scores_60_70))\n",
    "plt.bar(0.625, height =  naive_acc_60_70, width=width, color='lightskyblue')\n",
    "plt.bar(0.675, height =  bert_acc_60_70, width=width, color='lightcoral')\n",
    "\n",
    "plt.text(0.725, bert_acc_70_80+1, len(sim_scores_70_80))\n",
    "plt.bar(0.725, height =  naive_acc_70_80, width=width, color='lightskyblue')\n",
    "plt.bar(0.775, height =  bert_acc_70_80, width=width, color='lightcoral')\n",
    "\n",
    "plt.text(0.825, bert_acc_80_90+1, len(sim_scores_80_90))\n",
    "plt.bar(0.825, height =  naive_acc_80_90, width=width, color='lightskyblue')\n",
    "plt.bar(0.875, height =  bert_acc_80_90, width=width, color='lightcoral')\n",
    "\n",
    "plt.text(0.925, bert_acc_90_100+1, len(sim_scores_90_100))\n",
    "plt.bar(0.925, height =  naive_acc_90_100, width=width, color='lightskyblue')\n",
    "plt.bar(0.975, height =  bert_acc_90_100, width=width, color='lightcoral')\n",
    "\n",
    "plt.text(0.80, 90, 'bert-base', fontsize=12) \n",
    "plt.plot(0.78, 91, marker = 'o', color='lightcoral') \n",
    "\n",
    "plt.text(0.606, 90, 'naive', fontsize=12) \n",
    "plt.plot(0.58, 91, marker = 'o', color='lightskyblue') \n",
    "\n",
    "plt.ylim(30, 100)\n",
    "plt.title('Hard')\n",
    "\n",
    "plt.ylabel('Accuracy')\n",
    "plt.xlabel('Similarity')\n",
    "# plt.savefig('../figs/overlap_hard.pdf')\n",
    "plt.show()\n",
    "# g.text(0.5, 0.04, 'Similarity', ha='center')"
   ]
  },
  {
   "cell_type": "code",
   "execution_count": 336,
   "metadata": {},
   "outputs": [
    {
     "data": {
      "text/plain": [
       "9842"
      ]
     },
     "execution_count": 336,
     "metadata": {},
     "output_type": "execute_result"
    }
   ],
   "source": [
    "6+147+952+1767+1335+395+150+68+143+890+1765+1357+545+226+96"
   ]
  },
  {
   "cell_type": "code",
   "execution_count": 80,
   "metadata": {},
   "outputs": [
    {
     "data": {
      "text/plain": [
       "713"
      ]
     },
     "execution_count": 80,
     "metadata": {},
     "output_type": "execute_result"
    }
   ],
   "source": [
    "240+176+190+107"
   ]
  },
  {
   "cell_type": "code",
   "execution_count": null,
   "metadata": {},
   "outputs": [],
   "source": []
  }
 ],
 "metadata": {
  "kernelspec": {
   "display_name": "Python 3",
   "language": "python",
   "name": "python3"
  },
  "language_info": {
   "codemirror_mode": {
    "name": "ipython",
    "version": 3
   },
   "file_extension": ".py",
   "mimetype": "text/x-python",
   "name": "python",
   "nbconvert_exporter": "python",
   "pygments_lexer": "ipython3",
   "version": "3.8.5"
  }
 },
 "nbformat": 4,
 "nbformat_minor": 4
}
